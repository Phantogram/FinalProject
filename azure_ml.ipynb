{
 "cells": [
  {
   "cell_type": "code",
   "execution_count": 2,
   "metadata": {},
   "outputs": [],
   "source": [
    "# If you are using Python 3+, import urllib instead of urllib2\n",
    "import urllib\n",
    "# Import API key\n",
    "from config import api_key, url"
   ]
  },
  {
   "cell_type": "code",
   "execution_count": 3,
   "metadata": {},
   "outputs": [],
   "source": [
    "import json \n",
    "\n",
    "\n",
    "data =  {\n",
    "\n",
    "        \"Inputs\": {\n",
    "\n",
    "                \"input1\":\n",
    "                {\n",
    "                    \"ColumnNames\": [\"id\", \"name\", \"uri\", \"artist\", \"acousticness\", \"danceability\", \"duration_ms\", \"energy\", \"instrumentalness\", \"key\", \"liveness\", \"loudness\", \"mode\", \"speechiness\", \"tempo\", \"time_signature\", \"valence\", \"Group\", \"group_n\"],\n",
    "                    \"Values\": [ [ \"value\", \"value\", \"value\", \"value\", \"0.00302\", \"0.687\", \"305707\", \"0.973\", \"0.686\", \"10\", \"0.0848\", \"-4.467\", \"0\", \"0.0455\", \"128.019\", \"4.0\", \"0.33\", \"value\", \"0\" ] ]\n",
    "                },        },\n",
    "            \"GlobalParameters\": {\n",
    "}\n",
    "    }\n",
    "\n",
    "body = str.encode(json.dumps(data))\n",
    "\n",
    "# Replace this with the API key for the web service\n",
    "headers = {'Content-Type':'application/json', 'Authorization':('Bearer '+ api_key)}"
   ]
  },
  {
   "cell_type": "code",
   "execution_count": 4,
   "metadata": {},
   "outputs": [],
   "source": [
    "# , [ \"value\", \"value\", \"value\", \"value\", \"0\", \"0\", \"0\", \"0\", \"0\", \"0\", \"0\", \"0\", \"0\", \"0\", \"0\", \"0\", \"0\", \"value\", \"0\" ],"
   ]
  },
  {
   "cell_type": "code",
   "execution_count": 5,
   "metadata": {},
   "outputs": [],
   "source": [
    "req = urllib.request.Request(url, body, headers) "
   ]
  },
  {
   "cell_type": "code",
   "execution_count": 6,
   "metadata": {},
   "outputs": [
    {
     "name": "stdout",
     "output_type": "stream",
     "text": [
      "b'{\"Results\":{\"output1\":{\"type\":\"table\",\"value\":{\"ColumnNames\":[\"id\",\"name\",\"uri\",\"artist\",\"acousticness\",\"danceability\",\"duration_ms\",\"energy\",\"instrumentalness\",\"key\",\"liveness\",\"loudness\",\"mode\",\"speechiness\",\"tempo\",\"time_signature\",\"valence\",\"Group\",\"group_n\",\"Scored Probabilities for Class \\\\\"dinner\\\\\"\",\"Scored Probabilities for Class \\\\\"party\\\\\"\",\"Scored Probabilities for Class \\\\\"sleep\\\\\"\",\"Scored Probabilities for Class \\\\\"workout\\\\\"\",\"Scored Labels\"],\"ColumnTypes\":[\"String\",\"String\",\"String\",\"String\",\"Double\",\"Nullable`1\",\"Int32\",\"Double\",\"Double\",\"Int32\",\"Double\",\"Double\",\"Int32\",\"Nullable`1\",\"Double\",\"Nullable`1\",\"Nullable`1\",\"String\",\"Int32\",\"Double\",\"Double\",\"Double\",\"Double\",\"String\"],\"Values\":[[\"value\",\"value\",\"value\",\"value\",\"0.00302\",\"0.687\",\"305707\",\"0.973\",\"0.686\",\"10\",\"0.0848\",\"-4.467\",\"0\",\"0.0455\",\"128.019\",\"4\",\"0.33\",\"value\",\"0\",\"0.288357358933202\",\"0.528763722232823\",\"0.0243805819648516\",\"0.158498336869123\",\"party\"]]}}}}'\n"
     ]
    }
   ],
   "source": [
    "try:\n",
    "    response = urllib.request.urlopen(req)\n",
    "\n",
    "    # If you are using Python 3+, replace urllib2 with urllib.request in the above code:\n",
    "    # req = urllib.request.Request(url, body, headers) \n",
    "    # response = urllib.request.urlopen(req)\n",
    "\n",
    "    result = response.read()\n",
    "    print(result) \n",
    "except urllib.error.HTTPError:\n",
    "    print(\"The request failed with status code: \" + str(error.code))\n",
    "\n",
    "    # Print the headers - they include the requert ID and the timestamp, which are useful for debugging the failure\n",
    "    print(error.info())\n",
    "\n",
    "    print(json.loads(error.read()))                 "
   ]
  },
  {
   "cell_type": "code",
   "execution_count": null,
   "metadata": {},
   "outputs": [],
   "source": []
  }
 ],
 "metadata": {
  "kernelspec": {
   "display_name": "Python 3",
   "language": "python",
   "name": "python3"
  },
  "language_info": {
   "codemirror_mode": {
    "name": "ipython",
    "version": 3
   },
   "file_extension": ".py",
   "mimetype": "text/x-python",
   "name": "python",
   "nbconvert_exporter": "python",
   "pygments_lexer": "ipython3",
   "version": "3.8.3"
  }
 },
 "nbformat": 4,
 "nbformat_minor": 4
}
